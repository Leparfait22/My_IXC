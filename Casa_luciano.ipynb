{
 "cells": [
  {
   "cell_type": "code",
   "execution_count": 20,
   "metadata": {},
   "outputs": [
    {
     "name": "stdout",
     "output_type": "stream",
     "text": [
      "Numero de atributo : 21\n",
      "_id\n",
      "------------------------------------\n",
      "name\n",
      "------------------------------------\n",
      "description\n",
      "------------------------------------\n",
      "password\n",
      "------------------------------------\n",
      "icon\n",
      "------------------------------------\n",
      "model\n",
      "------------------------------------\n",
      "active\n",
      "------------------------------------\n",
      "online\n",
      "------------------------------------\n",
      "user\n",
      "------------------------------------\n",
      "date\n",
      "------------------------------------\n",
      "__v\n",
      "------------------------------------\n",
      "local\n",
      "------------------------------------\n",
      "automations\n",
      "------------------------------------\n",
      "type\n",
      "------------------------------------\n",
      "updatedAt\n",
      "------------------------------------\n",
      "end_devices\n",
      "------------------------------------\n",
      "status\n",
      "------------------------------------\n",
      "createdAt\n",
      "------------------------------------\n",
      "interfaces\n",
      "------------------------------------\n",
      "protocols\n",
      "------------------------------------\n",
      "version\n",
      "------------------------------------\n"
     ]
    }
   ],
   "source": [
    "import json\n",
    "import pandas as pd\n",
    "\n",
    "with open('locals.json', 'r', encoding='utf-8') as file_locals:\n",
    "    locals_data = json.load(file_locals)\n",
    "    \n",
    "with open('devices.json', 'r', encoding='utf-8') as file_device:\n",
    "    device_data = json.load(file_device)\n",
    "    \n",
    "for local in locals_data:\n",
    "    if(local['name'] == 'Casa de Luciano'):\n",
    "        casa_de_luciano = local\n",
    "\n",
    "atribute_name = []\n",
    "\n",
    "df_device = pd.DataFrame(device_data)\n",
    "for chave , Valor in df_device.items():\n",
    "    if chave not in atribute_name:\n",
    "        atribute_name.append(chave)\n",
    "print(f\"Numero de atributo : {len(atribute_name)}\")\n",
    "for chave in atribute_name:\n",
    "    print(chave)        \n",
    "    print(\"------------------------------------\")"
   ]
  },
  {
   "cell_type": "code",
   "execution_count": null,
   "metadata": {},
   "outputs": [],
   "source": [
    "## Agrupando os devices da casa do luciano \n",
    "\n",
    "devices_casa_de_luciano = []\n",
    "\n",
    "for device in device_data:\n",
    "    device_local = device['local']\n",
    "    if device_local['$oid'] == casa_de_luciano['_id']['$oid']:\n",
    "        devices_casa_de_luciano.append(device)\n",
    "\n",
    "devices_count = len(devices_casa_de_luciano[0]['end_devices'])\n",
    "print(f\"Numero de devices : {devices_count}\")\n",
    "print()\n",
    "\n",
    "\n",
    "# print(devices_casa_de_luciano[0]['end_devices'])\n",
    "for each_device in devices_casa_de_luciano[0]['end_devices']:\n",
    "    for elemento, valor_elemento in each_device.items():\n",
    "        print(each_device['exposes'])\n",
    "    print(\"------------------------------------------------------\")\n",
    "\n"
   ]
  },
  {
   "cell_type": "code",
   "execution_count": 130,
   "metadata": {},
   "outputs": [
    {
     "name": "stdout",
     "output_type": "stream",
     "text": [
      "[{'_id': {'$oid': '64e79a2d495c554d2d76076f'}, 'name': 'Portão da garagem', 'type': 'garage-door-opener', 'order': 0, 'device': {'$oid': '64e799f7495c554d2d760766'}, 'endpoint': '', 'settings': {'automatic-closing': False, 'automatic-closing-type': 'garage-door-board', 'automatic-closing-time': 10, 'transition-time': 8}, 'isActive': True, 'integrationsExternalId': '938e6ee8-74b9-4f2c-b2c0-59699e01ae32'}]\n",
      "--------------------------------\n",
      "[{'_id': {'$oid': '65d5273e86d526e57eff3331'}, 'name': 'Movimento lavanderia', 'type': 'motion-sensor', 'order': 0, 'device': {'$oid': '65d5263f86d526e57eff1796'}, 'endpoint': '', 'isActive': True, 'integrationsExternalId': '486e1b20-1bd6-4b4c-ac79-1fcf411b3f13'}, {'_id': {'$oid': '65de64b726c7366036d99d17'}, 'name': 'Movimento lavanderia', 'type': 'motion-sensor', 'order': 0, 'device': {'$oid': '65d5263f86d526e57eff1796'}, 'endpoint': '', 'isActive': True, 'integrationsExternalId': '2689ed10-fe51-4850-b077-3053232e0e19'}]\n",
      "--------------------------------\n",
      "[]\n",
      "card ausente\n",
      "--------------------------------\n",
      "[]\n",
      "card ausente\n",
      "--------------------------------\n",
      "[{'_id': {'$oid': '65d5273e86d526e57eff3333'}, 'name': 'Movimento quarto da Laura', 'type': 'motion-sensor', 'order': 0, 'device': {'$oid': '65d5265186d526e57eff18a8'}, 'endpoint': '', 'isActive': True, 'integrationsExternalId': '930764f4-368b-41ac-a69a-8fcf84961355'}, {'_id': {'$oid': '65d5273e86d526e57eff333b'}, 'name': 'Temperatura quarto da Laura', 'type': 'temperature-humidity', 'order': 0, 'device': {'$oid': '65d5268686d526e57eff2018'}, 'endpoint': '', 'isActive': True, 'integrationsExternalId': '6a880fc4-e88f-490d-ba0f-761654fc42ba'}]\n",
      "--------------------------------\n",
      "[{'_id': {'$oid': '649cc28b4187015e91c221d5'}, 'name': 'Copa gang smart dimmer - Saida L2', 'type': 'dimmer-bulb', 'order': 0, 'device': {'$oid': '649cc24e4187015e91c221bb'}, 'endpoint': 'l2', 'isActive': True, 'integrationsExternalId': 'b9412b52-2f07-4a5a-80e2-1a231559487b'}, {'_id': {'$oid': '649cc28b4187015e91c221ce'}, 'name': 'Copa', 'type': 'dimmer-bulb', 'order': 0, 'device': {'$oid': '649cc24e4187015e91c221bb'}, 'endpoint': 'l1', 'isActive': True, 'integrationsExternalId': 'adc99721-b82b-439c-b267-db2cc632a542'}, {'_id': {'$oid': '65d51c9286d526e57efe1893'}, 'name': 'Abertura vidro dos fundos', 'type': 'contact-sensor', 'order': 0, 'device': {'$oid': '65d51b9986d526e57efe0303'}, 'endpoint': '', 'isActive': True, 'integrationsExternalId': '3d57f66e-43b5-4a8b-87c2-5a5b0ed56197'}, {'_id': {'$oid': '65d5273e86d526e57eff3335'}, 'name': 'Abertura vidro lateral', 'type': 'contact-sensor', 'order': 0, 'device': {'$oid': '65d5266886d526e57eff1b1f'}, 'endpoint': '', 'isActive': True, 'integrationsExternalId': 'ca2d3cc2-db27-41de-b064-00cc6687cda9'}]\n",
      "--------------------------------\n",
      "[{'_id': {'$oid': '65d51dcb86d526e57efe3ad8'}, 'name': 'Temperatura da sala', 'type': 'temperature-humidity', 'order': 0, 'device': {'$oid': '65d51bc186d526e57efe06cb'}, 'endpoint': '', 'isActive': True, 'integrationsExternalId': 'acd5d75e-79bd-4d72-a0cd-459510e1b366'}]\n",
      "--------------------------------\n",
      "[{'_id': {'$oid': '649cb5e32db482b85a657895'}, 'name': 'Suite', 'order': 0, 'device': {'$oid': '649cb5bf2db482b85a657880'}, 'endpoint': 'l1', 'type': 'dimmer-bulb', 'isActive': True, 'integrationsExternalId': '5c37f05c-0101-4458-b965-d31f5c32e69a'}, {'_id': {'$oid': '649cb5e32db482b85a65789b'}, 'name': '2 gang smart dimmer - Saida L2', 'order': 0, 'device': {'$oid': '649cb5bf2db482b85a657880'}, 'endpoint': 'l2', 'type': 'dimmer-bulb', 'isActive': True, 'integrationsExternalId': '43854098-58de-4c6e-994e-d42b6d769eab'}, {'_id': {'$oid': '65de65b426c7366036d9b498'}, 'name': 'Temperatura suite', 'type': 'temperature-humidity', 'order': 0, 'device': {'$oid': '65dbee4404f5f1b7fec251c1'}, 'endpoint': '', 'isActive': True, 'integrationsExternalId': '2166ee14-6fe1-4d47-bd9e-3070cedf651a'}]\n",
      "--------------------------------\n",
      "[{'_id': {'$oid': '649cb1142db482b85a65763d'}, 'name': 'Cozinha', 'order': 0, 'device': {'$oid': '649cafb32db482b85a6575a7'}, 'endpoint': 'l1', 'type': 'dimmer-bulb', 'isActive': True, 'integrationsExternalId': 'fd72d2bf-28ca-48ab-b31e-8fca11d85fbb'}, {'_id': {'$oid': '649cb1142db482b85a657644'}, 'name': '2 gang smart dimmer - Saida L2', 'order': 0, 'device': {'$oid': '649cafb32db482b85a6575a7'}, 'endpoint': 'l2', 'type': 'dimmer-bulb', 'isActive': True, 'integrationsExternalId': 'e6f53a9d-9f77-45cd-83d3-a606f4642290'}, {'_id': {'$oid': '65d51c9286d526e57efe1891'}, 'name': 'Movimento lavanderia', 'type': 'motion-sensor', 'order': 0, 'device': {'$oid': '65d51b5686d526e57efdfe1f'}, 'endpoint': '', 'isActive': True, 'integrationsExternalId': '6284bc1a-59d3-4722-82d6-fd0bdd7eb7b8'}, {'_id': {'$oid': '65d5273e86d526e57eff3337'}, 'name': 'Temperatura cozinha', 'type': 'temperature-humidity', 'order': 0, 'device': {'$oid': '65d5267386d526e57eff1c75'}, 'endpoint': '', 'isActive': True, 'integrationsExternalId': '728380ff-f604-4e75-a706-4a7b8ea37f1f'}, {'_id': {'$oid': '65e7796746b054f4bf76b21f'}, 'name': 'Movimento cozinha', 'type': 'motion-sensor', 'order': 0, 'device': {'$oid': '65d5263f86d526e57eff1796'}, 'endpoint': '', 'isActive': True, 'integrationsExternalId': '4da575b6-2a7b-4518-88b9-8ced99a6cd60'}]\n",
      "--------------------------------\n",
      "[{'_id': {'$oid': '649cb7372db482b85a6579c1'}, 'name': 'Banheiro Social', 'order': 0, 'device': {'$oid': '649cb70c2db482b85a6579b0'}, 'endpoint': 'l1', 'type': 'dimmer-bulb', 'isActive': True, 'integrationsExternalId': '5e8492da-6c03-4950-b21f-8f1b18c86cdd'}, {'_id': {'$oid': '649cb7372db482b85a6579c7'}, 'name': '2 gang smart dimmer - Saida L2', 'order': 0, 'device': {'$oid': '649cb70c2db482b85a6579b0'}, 'endpoint': 'l2', 'type': 'dimmer-bulb', 'isActive': True, 'integrationsExternalId': '775bd86f-2feb-4773-b0d6-0030e30d6d01'}]\n",
      "--------------------------------\n"
     ]
    }
   ],
   "source": [
    "# print(casa_de_luciano['rooms'])\n",
    "\n",
    "casa_de_luciano_copy = casa_de_luciano.copy()\n",
    "luciano_rooms = casa_de_luciano_copy['rooms']\n",
    "\n",
    "\n",
    "\n",
    "for room in luciano_rooms:\n",
    "    # print(room)\n",
    "    card = room['cards']\n",
    "    print(card)\n",
    "    if not card:\n",
    "        print(\"card ausente\")\n",
    "        del room['cards']\n",
    "    # print(entry)\n",
    "    print('--------------------------------')\n"
   ]
  },
  {
   "cell_type": "code",
   "execution_count": 133,
   "metadata": {},
   "outputs": [
    {
     "name": "stdout",
     "output_type": "stream",
     "text": [
      "{'name': 'Garagem', 'order': 0, '_id': {'$oid': '65e77a2446b054f4bf76c47e'}, 'cards': [{'_id': {'$oid': '64e79a2d495c554d2d76076f'}, 'name': 'Portão da garagem', 'type': 'garage-door-opener', 'order': 0, 'device': {'$oid': '64e799f7495c554d2d760766'}, 'endpoint': '', 'settings': {'automatic-closing': False, 'automatic-closing-type': 'garage-door-board', 'automatic-closing-time': 10, 'transition-time': 8}, 'isActive': True, 'integrationsExternalId': '938e6ee8-74b9-4f2c-b2c0-59699e01ae32'}]}\n",
      "--------------------------------\n",
      "{'name': 'Lavanderia', 'order': 0, '_id': {'$oid': '65d5242a86d526e57efee764'}, 'cards': [{'_id': {'$oid': '65d5273e86d526e57eff3331'}, 'name': 'Movimento lavanderia', 'type': 'motion-sensor', 'order': 0, 'device': {'$oid': '65d5263f86d526e57eff1796'}, 'endpoint': '', 'isActive': True, 'integrationsExternalId': '486e1b20-1bd6-4b4c-ac79-1fcf411b3f13'}, {'_id': {'$oid': '65de64b726c7366036d99d17'}, 'name': 'Movimento lavanderia', 'type': 'motion-sensor', 'order': 0, 'device': {'$oid': '65d5263f86d526e57eff1796'}, 'endpoint': '', 'isActive': True, 'integrationsExternalId': '2689ed10-fe51-4850-b077-3053232e0e19'}]}\n",
      "--------------------------------\n",
      "{'name': 'Área de festa', 'order': 0, '_id': {'$oid': '65d3ce64b9f99e1fe2a6760c'}}\n",
      "--------------------------------\n",
      "{'name': 'Quarto de visitas', 'order': 0, '_id': {'$oid': '65d3ce4cb9f99e1fe2a674c5'}}\n",
      "--------------------------------\n",
      "{'name': 'Quarto da Laura', 'order': 0, '_id': {'$oid': '65d3ce24b9f99e1fe2a672c3'}, 'cards': [{'_id': {'$oid': '65d5273e86d526e57eff3333'}, 'name': 'Movimento quarto da Laura', 'type': 'motion-sensor', 'order': 0, 'device': {'$oid': '65d5265186d526e57eff18a8'}, 'endpoint': '', 'isActive': True, 'integrationsExternalId': '930764f4-368b-41ac-a69a-8fcf84961355'}, {'_id': {'$oid': '65d5273e86d526e57eff333b'}, 'name': 'Temperatura quarto da Laura', 'type': 'temperature-humidity', 'order': 0, 'device': {'$oid': '65d5268686d526e57eff2018'}, 'endpoint': '', 'isActive': True, 'integrationsExternalId': '6a880fc4-e88f-490d-ba0f-761654fc42ba'}]}\n",
      "--------------------------------\n",
      "{'name': 'Copa', 'order': 0, '_id': {'$oid': '65d3ce0ab9f99e1fe2a670eb'}, 'cards': [{'_id': {'$oid': '649cc28b4187015e91c221d5'}, 'name': 'Copa gang smart dimmer - Saida L2', 'type': 'dimmer-bulb', 'order': 0, 'device': {'$oid': '649cc24e4187015e91c221bb'}, 'endpoint': 'l2', 'isActive': True, 'integrationsExternalId': 'b9412b52-2f07-4a5a-80e2-1a231559487b'}, {'_id': {'$oid': '649cc28b4187015e91c221ce'}, 'name': 'Copa', 'type': 'dimmer-bulb', 'order': 0, 'device': {'$oid': '649cc24e4187015e91c221bb'}, 'endpoint': 'l1', 'isActive': True, 'integrationsExternalId': 'adc99721-b82b-439c-b267-db2cc632a542'}, {'_id': {'$oid': '65d51c9286d526e57efe1893'}, 'name': 'Abertura vidro dos fundos', 'type': 'contact-sensor', 'order': 0, 'device': {'$oid': '65d51b9986d526e57efe0303'}, 'endpoint': '', 'isActive': True, 'integrationsExternalId': '3d57f66e-43b5-4a8b-87c2-5a5b0ed56197'}, {'_id': {'$oid': '65d5273e86d526e57eff3335'}, 'name': 'Abertura vidro lateral', 'type': 'contact-sensor', 'order': 0, 'device': {'$oid': '65d5266886d526e57eff1b1f'}, 'endpoint': '', 'isActive': True, 'integrationsExternalId': 'ca2d3cc2-db27-41de-b064-00cc6687cda9'}]}\n",
      "--------------------------------\n",
      "{'name': 'Sala', 'order': 0, '_id': {'$oid': '649f595b5ae10794d2718e20'}, 'cards': [{'_id': {'$oid': '65d51dcb86d526e57efe3ad8'}, 'name': 'Temperatura da sala', 'type': 'temperature-humidity', 'order': 0, 'device': {'$oid': '65d51bc186d526e57efe06cb'}, 'endpoint': '', 'isActive': True, 'integrationsExternalId': 'acd5d75e-79bd-4d72-a0cd-459510e1b366'}]}\n",
      "--------------------------------\n",
      "{'name': 'Suite', 'order': 0, '_id': {'$oid': '64289d68675817487e47f188'}, 'cards': [{'_id': {'$oid': '649cb5e32db482b85a657895'}, 'name': 'Suite', 'order': 0, 'device': {'$oid': '649cb5bf2db482b85a657880'}, 'endpoint': 'l1', 'type': 'dimmer-bulb', 'isActive': True, 'integrationsExternalId': '5c37f05c-0101-4458-b965-d31f5c32e69a'}, {'_id': {'$oid': '649cb5e32db482b85a65789b'}, 'name': '2 gang smart dimmer - Saida L2', 'order': 0, 'device': {'$oid': '649cb5bf2db482b85a657880'}, 'endpoint': 'l2', 'type': 'dimmer-bulb', 'isActive': True, 'integrationsExternalId': '43854098-58de-4c6e-994e-d42b6d769eab'}, {'_id': {'$oid': '65de65b426c7366036d9b498'}, 'name': 'Temperatura suite', 'type': 'temperature-humidity', 'order': 0, 'device': {'$oid': '65dbee4404f5f1b7fec251c1'}, 'endpoint': '', 'isActive': True, 'integrationsExternalId': '2166ee14-6fe1-4d47-bd9e-3070cedf651a'}]}\n",
      "--------------------------------\n",
      "{'name': 'Cozinha', 'order': 1, '_id': {'$oid': '64289d68675817487e47f189'}, 'cards': [{'_id': {'$oid': '649cb1142db482b85a65763d'}, 'name': 'Cozinha', 'order': 0, 'device': {'$oid': '649cafb32db482b85a6575a7'}, 'endpoint': 'l1', 'type': 'dimmer-bulb', 'isActive': True, 'integrationsExternalId': 'fd72d2bf-28ca-48ab-b31e-8fca11d85fbb'}, {'_id': {'$oid': '649cb1142db482b85a657644'}, 'name': '2 gang smart dimmer - Saida L2', 'order': 0, 'device': {'$oid': '649cafb32db482b85a6575a7'}, 'endpoint': 'l2', 'type': 'dimmer-bulb', 'isActive': True, 'integrationsExternalId': 'e6f53a9d-9f77-45cd-83d3-a606f4642290'}, {'_id': {'$oid': '65d51c9286d526e57efe1891'}, 'name': 'Movimento lavanderia', 'type': 'motion-sensor', 'order': 0, 'device': {'$oid': '65d51b5686d526e57efdfe1f'}, 'endpoint': '', 'isActive': True, 'integrationsExternalId': '6284bc1a-59d3-4722-82d6-fd0bdd7eb7b8'}, {'_id': {'$oid': '65d5273e86d526e57eff3337'}, 'name': 'Temperatura cozinha', 'type': 'temperature-humidity', 'order': 0, 'device': {'$oid': '65d5267386d526e57eff1c75'}, 'endpoint': '', 'isActive': True, 'integrationsExternalId': '728380ff-f604-4e75-a706-4a7b8ea37f1f'}, {'_id': {'$oid': '65e7796746b054f4bf76b21f'}, 'name': 'Movimento cozinha', 'type': 'motion-sensor', 'order': 0, 'device': {'$oid': '65d5263f86d526e57eff1796'}, 'endpoint': '', 'isActive': True, 'integrationsExternalId': '4da575b6-2a7b-4518-88b9-8ced99a6cd60'}]}\n",
      "--------------------------------\n",
      "{'name': 'Banheiro', 'order': 2, '_id': {'$oid': '64289d68675817487e47f18a'}, 'cards': [{'_id': {'$oid': '649cb7372db482b85a6579c1'}, 'name': 'Banheiro Social', 'order': 0, 'device': {'$oid': '649cb70c2db482b85a6579b0'}, 'endpoint': 'l1', 'type': 'dimmer-bulb', 'isActive': True, 'integrationsExternalId': '5e8492da-6c03-4950-b21f-8f1b18c86cdd'}, {'_id': {'$oid': '649cb7372db482b85a6579c7'}, 'name': '2 gang smart dimmer - Saida L2', 'order': 0, 'device': {'$oid': '649cb70c2db482b85a6579b0'}, 'endpoint': 'l2', 'type': 'dimmer-bulb', 'isActive': True, 'integrationsExternalId': '775bd86f-2feb-4773-b0d6-0030e30d6d01'}]}\n",
      "--------------------------------\n"
     ]
    }
   ],
   "source": [
    "for room in luciano_rooms:\n",
    "    print(room)\n",
    "    print('--------------------------------')"
   ]
  },
  {
   "cell_type": "code",
   "execution_count": 160,
   "metadata": {},
   "outputs": [
    {
     "name": "stdout",
     "output_type": "stream",
     "text": [
      "_id : {'$oid': '6499d90c941807ee731e4274'}\n",
      "----------------------------------------------------------------\n",
      "local : {'$oid': '64289d68675817487e47f187'}\n",
      "----------------------------------------------------------------\n",
      "status : active\n",
      "----------------------------------------------------------------\n",
      "user : {'$oid': '64289d47675817487e47f14f'}\n",
      "----------------------------------------------------------------\n",
      "__v : 16\n",
      "----------------------------------------------------------------\n",
      "automations : []\n",
      "----------------------------------------------------------------\n",
      "createdAt : {'$date': '2023-06-26T18:29:32.311Z'}\n",
      "----------------------------------------------------------------\n",
      "date : {'$date': '2023-06-26T19:15:41.142Z'}\n",
      "----------------------------------------------------------------\n",
      "end_devices : [{'description': '2 gang smart dimmer', 'name': '0x385b44fffe2d2c8f', 'model': 'TS0601_dimmer_2', 'type': 'Router', 'exposes': [{'endpoint': 'l1', 'features': [{'access': 3, 'description': 'On/off state of this light', 'endpoint': 'l1', 'name': 'state', 'property': 'state_l1', 'type': 'binary', 'value_off': 'OFF', 'value_on': 'ON', 'value_toggle': 'TOGGLE'}, {'access': 3, 'description': 'Brightness of this light', 'endpoint': 'l1', 'name': 'brightness', 'property': 'brightness_l1', 'type': 'numeric', 'value_max': 254, 'value_min': 0}, {'access': 3, 'description': 'Minimum light brightness', 'endpoint': 'l1', 'name': 'min_brightness', 'property': 'min_brightness_l1', 'type': 'numeric', 'value_max': 255, 'value_min': 1}, {'access': 3, 'description': 'Maximum light brightness', 'endpoint': 'l1', 'name': 'max_brightness', 'property': 'max_brightness_l1', 'type': 'numeric', 'value_max': 255, 'value_min': 1}], 'type': 'light'}, {'endpoint': 'l2', 'features': [{'access': 3, 'description': 'On/off state of this light', 'endpoint': 'l2', 'name': 'state', 'property': 'state_l2', 'type': 'binary', 'value_off': 'OFF', 'value_on': 'ON', 'value_toggle': 'TOGGLE'}, {'access': 3, 'description': 'Brightness of this light', 'endpoint': 'l2', 'name': 'brightness', 'property': 'brightness_l2', 'type': 'numeric', 'value_max': 254, 'value_min': 0}, {'access': 3, 'description': 'Minimum light brightness', 'endpoint': 'l2', 'name': 'min_brightness', 'property': 'min_brightness_l2', 'type': 'numeric', 'value_max': 255, 'value_min': 1}, {'access': 3, 'description': 'Maximum light brightness', 'endpoint': 'l2', 'name': 'max_brightness', 'property': 'max_brightness_l2', 'type': 'numeric', 'value_max': 255, 'value_min': 1}], 'type': 'light'}, {'access': 3, 'description': 'Countdown to turn device off after a certain time', 'endpoint': 'l1', 'name': 'countdown', 'property': 'countdown_l1', 'type': 'numeric', 'unit': 's', 'value_max': 43200, 'value_min': 0, 'value_step': 1}, {'access': 3, 'description': 'Countdown to turn device off after a certain time', 'endpoint': 'l2', 'name': 'countdown', 'property': 'countdown_l2', 'type': 'numeric', 'unit': 's', 'value_max': 43200, 'value_min': 0, 'value_step': 1}, {'access': 1, 'description': 'Link quality (signal strength)', 'name': 'linkquality', 'property': 'linkquality', 'type': 'numeric', 'unit': 'lqi', 'value_max': 255, 'value_min': 0}], 'options': [], 'online': True, '_id': {'$oid': '649cafb32db482b85a6575a7'}, 'values': {'brightness_l1': 230, 'brightness_l2': 22, 'linkquality': 148, 'state_l1': 'OFF', 'state_l2': 'OFF'}}, {'description': '2 gang smart dimmer', 'name': '0x84ba20fffe6555bf', 'model': 'TS0601_dimmer_2', 'type': 'Router', 'exposes': [{'endpoint': 'l1', 'features': [{'access': 3, 'description': 'On/off state of this light', 'endpoint': 'l1', 'name': 'state', 'property': 'state_l1', 'type': 'binary', 'value_off': 'OFF', 'value_on': 'ON', 'value_toggle': 'TOGGLE'}, {'access': 3, 'description': 'Brightness of this light', 'endpoint': 'l1', 'name': 'brightness', 'property': 'brightness_l1', 'type': 'numeric', 'value_max': 254, 'value_min': 0}, {'access': 3, 'description': 'Minimum light brightness', 'endpoint': 'l1', 'name': 'min_brightness', 'property': 'min_brightness_l1', 'type': 'numeric', 'value_max': 255, 'value_min': 1}, {'access': 3, 'description': 'Maximum light brightness', 'endpoint': 'l1', 'name': 'max_brightness', 'property': 'max_brightness_l1', 'type': 'numeric', 'value_max': 255, 'value_min': 1}], 'type': 'light'}, {'endpoint': 'l2', 'features': [{'access': 3, 'description': 'On/off state of this light', 'endpoint': 'l2', 'name': 'state', 'property': 'state_l2', 'type': 'binary', 'value_off': 'OFF', 'value_on': 'ON', 'value_toggle': 'TOGGLE'}, {'access': 3, 'description': 'Brightness of this light', 'endpoint': 'l2', 'name': 'brightness', 'property': 'brightness_l2', 'type': 'numeric', 'value_max': 254, 'value_min': 0}, {'access': 3, 'description': 'Minimum light brightness', 'endpoint': 'l2', 'name': 'min_brightness', 'property': 'min_brightness_l2', 'type': 'numeric', 'value_max': 255, 'value_min': 1}, {'access': 3, 'description': 'Maximum light brightness', 'endpoint': 'l2', 'name': 'max_brightness', 'property': 'max_brightness_l2', 'type': 'numeric', 'value_max': 255, 'value_min': 1}], 'type': 'light'}, {'access': 3, 'description': 'Countdown to turn device off after a certain time', 'endpoint': 'l1', 'name': 'countdown', 'property': 'countdown_l1', 'type': 'numeric', 'unit': 's', 'value_max': 43200, 'value_min': 0, 'value_step': 1}, {'access': 3, 'description': 'Countdown to turn device off after a certain time', 'endpoint': 'l2', 'name': 'countdown', 'property': 'countdown_l2', 'type': 'numeric', 'unit': 's', 'value_max': 43200, 'value_min': 0, 'value_step': 1}, {'access': 1, 'description': 'Link quality (signal strength)', 'name': 'linkquality', 'property': 'linkquality', 'type': 'numeric', 'unit': 'lqi', 'value_max': 255, 'value_min': 0}], 'options': [], 'online': True, '_id': {'$oid': '649cb5bf2db482b85a657880'}, 'values': {'brightness_l1': 64, 'brightness_l2': 254, 'linkquality': 148, 'state_l1': 'OFF', 'state_l2': 'ON'}}, {'description': '2 gang smart dimmer', 'name': '0x84ba20fffe655848', 'model': 'TS0601_dimmer_2', 'type': 'Router', 'exposes': [{'endpoint': 'l1', 'features': [{'access': 3, 'description': 'On/off state of this light', 'endpoint': 'l1', 'name': 'state', 'property': 'state_l1', 'type': 'binary', 'value_off': 'OFF', 'value_on': 'ON', 'value_toggle': 'TOGGLE'}, {'access': 3, 'description': 'Brightness of this light', 'endpoint': 'l1', 'name': 'brightness', 'property': 'brightness_l1', 'type': 'numeric', 'value_max': 254, 'value_min': 0}, {'access': 3, 'description': 'Minimum light brightness', 'endpoint': 'l1', 'name': 'min_brightness', 'property': 'min_brightness_l1', 'type': 'numeric', 'value_max': 255, 'value_min': 1}, {'access': 3, 'description': 'Maximum light brightness', 'endpoint': 'l1', 'name': 'max_brightness', 'property': 'max_brightness_l1', 'type': 'numeric', 'value_max': 255, 'value_min': 1}], 'type': 'light'}, {'endpoint': 'l2', 'features': [{'access': 3, 'description': 'On/off state of this light', 'endpoint': 'l2', 'name': 'state', 'property': 'state_l2', 'type': 'binary', 'value_off': 'OFF', 'value_on': 'ON', 'value_toggle': 'TOGGLE'}, {'access': 3, 'description': 'Brightness of this light', 'endpoint': 'l2', 'name': 'brightness', 'property': 'brightness_l2', 'type': 'numeric', 'value_max': 254, 'value_min': 0}, {'access': 3, 'description': 'Minimum light brightness', 'endpoint': 'l2', 'name': 'min_brightness', 'property': 'min_brightness_l2', 'type': 'numeric', 'value_max': 255, 'value_min': 1}, {'access': 3, 'description': 'Maximum light brightness', 'endpoint': 'l2', 'name': 'max_brightness', 'property': 'max_brightness_l2', 'type': 'numeric', 'value_max': 255, 'value_min': 1}], 'type': 'light'}, {'access': 3, 'description': 'Countdown to turn device off after a certain time', 'endpoint': 'l1', 'name': 'countdown', 'property': 'countdown_l1', 'type': 'numeric', 'unit': 's', 'value_max': 43200, 'value_min': 0, 'value_step': 1}, {'access': 3, 'description': 'Countdown to turn device off after a certain time', 'endpoint': 'l2', 'name': 'countdown', 'property': 'countdown_l2', 'type': 'numeric', 'unit': 's', 'value_max': 43200, 'value_min': 0, 'value_step': 1}, {'access': 1, 'description': 'Link quality (signal strength)', 'name': 'linkquality', 'property': 'linkquality', 'type': 'numeric', 'unit': 'lqi', 'value_max': 255, 'value_min': 0}], 'options': [], 'online': True, '_id': {'$oid': '649cb70c2db482b85a6579b0'}, 'values': {'brightness_l1': 254, 'brightness_l2': 206, 'linkquality': 144, 'state_l1': 'OFF', 'state_l2': 'OFF'}}, {'description': '2 gang smart dimmer', 'name': '0x84ba20fffe655562', 'model': 'TS0601_dimmer_2', 'type': 'Router', 'exposes': [{'endpoint': 'l1', 'features': [{'access': 3, 'description': 'On/off state of this light', 'endpoint': 'l1', 'name': 'state', 'property': 'state_l1', 'type': 'binary', 'value_off': 'OFF', 'value_on': 'ON', 'value_toggle': 'TOGGLE'}, {'access': 3, 'description': 'Brightness of this light', 'endpoint': 'l1', 'name': 'brightness', 'property': 'brightness_l1', 'type': 'numeric', 'value_max': 254, 'value_min': 0}, {'access': 3, 'description': 'Minimum light brightness', 'endpoint': 'l1', 'name': 'min_brightness', 'property': 'min_brightness_l1', 'type': 'numeric', 'value_max': 255, 'value_min': 1}, {'access': 3, 'description': 'Maximum light brightness', 'endpoint': 'l1', 'name': 'max_brightness', 'property': 'max_brightness_l1', 'type': 'numeric', 'value_max': 255, 'value_min': 1}], 'type': 'light'}, {'endpoint': 'l2', 'features': [{'access': 3, 'description': 'On/off state of this light', 'endpoint': 'l2', 'name': 'state', 'property': 'state_l2', 'type': 'binary', 'value_off': 'OFF', 'value_on': 'ON', 'value_toggle': 'TOGGLE'}, {'access': 3, 'description': 'Brightness of this light', 'endpoint': 'l2', 'name': 'brightness', 'property': 'brightness_l2', 'type': 'numeric', 'value_max': 254, 'value_min': 0}, {'access': 3, 'description': 'Minimum light brightness', 'endpoint': 'l2', 'name': 'min_brightness', 'property': 'min_brightness_l2', 'type': 'numeric', 'value_max': 255, 'value_min': 1}, {'access': 3, 'description': 'Maximum light brightness', 'endpoint': 'l2', 'name': 'max_brightness', 'property': 'max_brightness_l2', 'type': 'numeric', 'value_max': 255, 'value_min': 1}], 'type': 'light'}, {'access': 3, 'description': 'Countdown to turn device off after a certain time', 'endpoint': 'l1', 'name': 'countdown', 'property': 'countdown_l1', 'type': 'numeric', 'unit': 's', 'value_max': 43200, 'value_min': 0, 'value_step': 1}, {'access': 3, 'description': 'Countdown to turn device off after a certain time', 'endpoint': 'l2', 'name': 'countdown', 'property': 'countdown_l2', 'type': 'numeric', 'unit': 's', 'value_max': 43200, 'value_min': 0, 'value_step': 1}, {'access': 1, 'description': 'Link quality (signal strength)', 'name': 'linkquality', 'property': 'linkquality', 'type': 'numeric', 'unit': 'lqi', 'value_max': 255, 'value_min': 0}], 'options': [], 'online': True, '_id': {'$oid': '649cc24e4187015e91c221bb'}, 'values': {'brightness_l1': 254, 'brightness_l2': 14, 'linkquality': 152, 'state_l1': 'OFF', 'state_l2': 'OFF'}}, {'description': 'Garage door opener', 'name': '0xa4c1388ca3c5fe68', 'model': 'PJ-ZGD01', 'type': 'Router', 'exposes': [{'access': 3, 'description': 'Trigger the door movement', 'name': 'trigger', 'property': 'trigger', 'type': 'binary', 'value_off': False, 'value_on': True}, {'access': 1, 'name': 'garage_door_contact', 'property': 'garage_door_contact', 'type': 'binary', 'value_off': False, 'value_on': True}, {'access': 1, 'description': 'Link quality (signal strength)', 'name': 'linkquality', 'property': 'linkquality', 'type': 'numeric', 'unit': 'lqi', 'value_max': 255, 'value_min': 0}], 'options': [], 'online': True, '_id': {'$oid': '64e799f7495c554d2d760766'}, 'values': {'garage_door_contact': True, 'linkquality': 140, 'trigger': False}}, {'description': 'Motion sensor', 'name': '0x00124b002934c4aa', 'model': 'SNZB-03', 'type': 'EndDevice', 'exposes': [{'access': 1, 'description': 'Indicates whether the device detected occupancy', 'name': 'occupancy', 'property': 'occupancy', 'type': 'binary', 'value_off': False, 'value_on': True}, {'access': 1, 'description': 'Indicates if the battery of this device is almost empty', 'name': 'battery_low', 'property': 'battery_low', 'type': 'binary', 'value_off': False, 'value_on': True}, {'access': 1, 'description': 'Remaining battery in %, can take up to 24 hours before reported.', 'name': 'battery', 'property': 'battery', 'type': 'numeric', 'unit': '%', 'value_max': 100, 'value_min': 0}, {'access': 1, 'description': 'Voltage of the battery in millivolts', 'name': 'voltage', 'property': 'voltage', 'type': 'numeric', 'unit': 'mV'}, {'access': 1, 'description': 'Link quality (signal strength)', 'name': 'linkquality', 'property': 'linkquality', 'type': 'numeric', 'unit': 'lqi', 'value_max': 255, 'value_min': 0}], 'options': [], 'online': True, '_id': {'$oid': '65d51b5686d526e57efdfe1f'}, 'values': {'battery': 100, 'battery_low': False, 'linkquality': 140, 'occupancy': False, 'tamper': False, 'voltage': 3000}}, {'description': 'Contact sensor', 'name': '0x00124b0029358809', 'model': 'SNZB-04', 'type': 'EndDevice', 'exposes': [{'access': 1, 'description': 'Indicates if the contact is closed (= true) or open (= false)', 'name': 'contact', 'property': 'contact', 'type': 'binary', 'value_off': True, 'value_on': False}, {'access': 1, 'description': 'Indicates if the battery of this device is almost empty', 'name': 'battery_low', 'property': 'battery_low', 'type': 'binary', 'value_off': False, 'value_on': True}, {'access': 1, 'description': 'Remaining battery in %, can take up to 24 hours before reported.', 'name': 'battery', 'property': 'battery', 'type': 'numeric', 'unit': '%', 'value_max': 100, 'value_min': 0}, {'access': 1, 'description': 'Voltage of the battery in millivolts', 'name': 'voltage', 'property': 'voltage', 'type': 'numeric', 'unit': 'mV'}, {'access': 1, 'description': 'Link quality (signal strength)', 'name': 'linkquality', 'property': 'linkquality', 'type': 'numeric', 'unit': 'lqi', 'value_max': 255, 'value_min': 0}], 'options': [], 'online': True, '_id': {'$oid': '65d51b9986d526e57efe0303'}, 'values': {'battery': 100, 'battery_low': False, 'contact': True, 'linkquality': 148, 'tamper': False, 'voltage': 3100}}, {'description': 'Temperature and humidity sensor', 'name': '0x00124b0029359d57', 'model': 'SNZB-02', 'type': 'EndDevice', 'exposes': [{'access': 1, 'description': 'Remaining battery in %, can take up to 24 hours before reported.', 'name': 'battery', 'property': 'battery', 'type': 'numeric', 'unit': '%', 'value_max': 100, 'value_min': 0}, {'access': 1, 'description': 'Measured temperature value', 'name': 'temperature', 'property': 'temperature', 'type': 'numeric', 'unit': '°C'}, {'access': 1, 'description': 'Measured relative humidity', 'name': 'humidity', 'property': 'humidity', 'type': 'numeric', 'unit': '%'}, {'access': 1, 'description': 'Voltage of the battery in millivolts', 'name': 'voltage', 'property': 'voltage', 'type': 'numeric', 'unit': 'mV'}, {'access': 1, 'description': 'Link quality (signal strength)', 'name': 'linkquality', 'property': 'linkquality', 'type': 'numeric', 'unit': 'lqi', 'value_max': 255, 'value_min': 0}], 'options': [{'access': 2, 'description': 'Number of digits after decimal point for temperature, takes into effect on next report of device.', 'name': 'temperature_precision', 'property': 'temperature_precision', 'type': 'numeric', 'value_max': 3, 'value_min': 0}, {'access': 2, 'description': 'Calibrates the temperature value (absolute offset), takes into effect on next report of device.', 'name': 'temperature_calibration', 'property': 'temperature_calibration', 'type': 'numeric'}, {'access': 2, 'description': 'Number of digits after decimal point for humidity, takes into effect on next report of device.', 'name': 'humidity_precision', 'property': 'humidity_precision', 'type': 'numeric', 'value_max': 3, 'value_min': 0}, {'access': 2, 'description': 'Calibrates the humidity value (absolute offset), takes into effect on next report of device.', 'name': 'humidity_calibration', 'property': 'humidity_calibration', 'type': 'numeric'}], 'online': True, '_id': {'$oid': '65d51bc186d526e57efe06cb'}, 'values': {'battery': 100, 'humidity': 72.77, 'linkquality': 128, 'temperature': 24.83, 'voltage': 3100}}, {'description': 'Temperature and humidity sensor', 'name': '0x00124b0029359d57', 'model': 'SNZB-02', 'type': 'EndDevice', 'exposes': [{'access': 1, 'description': 'Remaining battery in %, can take up to 24 hours before reported.', 'name': 'battery', 'property': 'battery', 'type': 'numeric', 'unit': '%', 'value_max': 100, 'value_min': 0}, {'access': 1, 'description': 'Measured temperature value', 'name': 'temperature', 'property': 'temperature', 'type': 'numeric', 'unit': '°C'}, {'access': 1, 'description': 'Measured relative humidity', 'name': 'humidity', 'property': 'humidity', 'type': 'numeric', 'unit': '%'}, {'access': 1, 'description': 'Voltage of the battery in millivolts', 'name': 'voltage', 'property': 'voltage', 'type': 'numeric', 'unit': 'mV'}, {'access': 1, 'description': 'Link quality (signal strength)', 'name': 'linkquality', 'property': 'linkquality', 'type': 'numeric', 'unit': 'lqi', 'value_max': 255, 'value_min': 0}], 'options': [{'access': 2, 'description': 'Number of digits after decimal point for temperature, takes into effect on next report of device.', 'name': 'temperature_precision', 'property': 'temperature_precision', 'type': 'numeric', 'value_max': 3, 'value_min': 0}, {'access': 2, 'description': 'Calibrates the temperature value (absolute offset), takes into effect on next report of device.', 'name': 'temperature_calibration', 'property': 'temperature_calibration', 'type': 'numeric'}, {'access': 2, 'description': 'Number of digits after decimal point for humidity, takes into effect on next report of device.', 'name': 'humidity_precision', 'property': 'humidity_precision', 'type': 'numeric', 'value_max': 3, 'value_min': 0}, {'access': 2, 'description': 'Calibrates the humidity value (absolute offset), takes into effect on next report of device.', 'name': 'humidity_calibration', 'property': 'humidity_calibration', 'type': 'numeric'}], 'online': True, '_id': {'$oid': '65d51bc186d526e57efe06d4'}}, {'description': 'Motion sensor', 'name': '0x00124b002931f4ab', 'model': 'SNZB-03', 'type': 'EndDevice', 'exposes': [{'access': 1, 'description': 'Indicates whether the device detected occupancy', 'name': 'occupancy', 'property': 'occupancy', 'type': 'binary', 'value_off': False, 'value_on': True}, {'access': 1, 'description': 'Indicates if the battery of this device is almost empty', 'name': 'battery_low', 'property': 'battery_low', 'type': 'binary', 'value_off': False, 'value_on': True}, {'access': 1, 'description': 'Remaining battery in %, can take up to 24 hours before reported.', 'name': 'battery', 'property': 'battery', 'type': 'numeric', 'unit': '%', 'value_max': 100, 'value_min': 0}, {'access': 1, 'description': 'Voltage of the battery in millivolts', 'name': 'voltage', 'property': 'voltage', 'type': 'numeric', 'unit': 'mV'}, {'access': 1, 'description': 'Link quality (signal strength)', 'name': 'linkquality', 'property': 'linkquality', 'type': 'numeric', 'unit': 'lqi', 'value_max': 255, 'value_min': 0}], 'options': [], 'online': False, '_id': {'$oid': '65d5263f86d526e57eff1796'}, 'values': {'battery': 0, 'battery_low': False, 'linkquality': 148, 'occupancy': True, 'tamper': False, 'voltage': 2300}}, {'description': 'Motion sensor', 'name': '0x00124b002a4f61f5', 'model': 'SNZB-03', 'type': 'EndDevice', 'exposes': [{'access': 1, 'description': 'Indicates whether the device detected occupancy', 'name': 'occupancy', 'property': 'occupancy', 'type': 'binary', 'value_off': False, 'value_on': True}, {'access': 1, 'description': 'Indicates if the battery of this device is almost empty', 'name': 'battery_low', 'property': 'battery_low', 'type': 'binary', 'value_off': False, 'value_on': True}, {'access': 1, 'description': 'Remaining battery in %, can take up to 24 hours before reported.', 'name': 'battery', 'property': 'battery', 'type': 'numeric', 'unit': '%', 'value_max': 100, 'value_min': 0}, {'access': 1, 'description': 'Voltage of the battery in millivolts', 'name': 'voltage', 'property': 'voltage', 'type': 'numeric', 'unit': 'mV'}, {'access': 1, 'description': 'Link quality (signal strength)', 'name': 'linkquality', 'property': 'linkquality', 'type': 'numeric', 'unit': 'lqi', 'value_max': 255, 'value_min': 0}], 'options': [], 'online': True, '_id': {'$oid': '65d5265186d526e57eff18a8'}, 'values': {'battery': 100, 'battery_low': False, 'linkquality': 148, 'occupancy': False, 'tamper': False, 'voltage': 3000}}, {'description': 'Contact sensor', 'name': '0x00124b0029352931', 'model': 'SNZB-04', 'type': 'EndDevice', 'exposes': [{'access': 1, 'description': 'Indicates if the contact is closed (= true) or open (= false)', 'name': 'contact', 'property': 'contact', 'type': 'binary', 'value_off': True, 'value_on': False}, {'access': 1, 'description': 'Indicates if the battery of this device is almost empty', 'name': 'battery_low', 'property': 'battery_low', 'type': 'binary', 'value_off': False, 'value_on': True}, {'access': 1, 'description': 'Remaining battery in %, can take up to 24 hours before reported.', 'name': 'battery', 'property': 'battery', 'type': 'numeric', 'unit': '%', 'value_max': 100, 'value_min': 0}, {'access': 1, 'description': 'Voltage of the battery in millivolts', 'name': 'voltage', 'property': 'voltage', 'type': 'numeric', 'unit': 'mV'}, {'access': 1, 'description': 'Link quality (signal strength)', 'name': 'linkquality', 'property': 'linkquality', 'type': 'numeric', 'unit': 'lqi', 'value_max': 255, 'value_min': 0}], 'options': [], 'online': True, '_id': {'$oid': '65d5266886d526e57eff1b1f'}, 'values': {'battery': 100, 'battery_low': False, 'contact': True, 'linkquality': 140, 'tamper': False, 'voltage': 3100}}, {'description': 'Temperature and humidity sensor', 'name': '0x00124b002935fd76', 'model': 'SNZB-02', 'type': 'EndDevice', 'exposes': [{'access': 1, 'description': 'Remaining battery in %, can take up to 24 hours before reported.', 'name': 'battery', 'property': 'battery', 'type': 'numeric', 'unit': '%', 'value_max': 100, 'value_min': 0}, {'access': 1, 'description': 'Measured temperature value', 'name': 'temperature', 'property': 'temperature', 'type': 'numeric', 'unit': '°C'}, {'access': 1, 'description': 'Measured relative humidity', 'name': 'humidity', 'property': 'humidity', 'type': 'numeric', 'unit': '%'}, {'access': 1, 'description': 'Voltage of the battery in millivolts', 'name': 'voltage', 'property': 'voltage', 'type': 'numeric', 'unit': 'mV'}, {'access': 1, 'description': 'Link quality (signal strength)', 'name': 'linkquality', 'property': 'linkquality', 'type': 'numeric', 'unit': 'lqi', 'value_max': 255, 'value_min': 0}], 'options': [{'access': 2, 'description': 'Number of digits after decimal point for temperature, takes into effect on next report of device.', 'name': 'temperature_precision', 'property': 'temperature_precision', 'type': 'numeric', 'value_max': 3, 'value_min': 0}, {'access': 2, 'description': 'Calibrates the temperature value (absolute offset), takes into effect on next report of device.', 'name': 'temperature_calibration', 'property': 'temperature_calibration', 'type': 'numeric'}, {'access': 2, 'description': 'Number of digits after decimal point for humidity, takes into effect on next report of device.', 'name': 'humidity_precision', 'property': 'humidity_precision', 'type': 'numeric', 'value_max': 3, 'value_min': 0}, {'access': 2, 'description': 'Calibrates the humidity value (absolute offset), takes into effect on next report of device.', 'name': 'humidity_calibration', 'property': 'humidity_calibration', 'type': 'numeric'}], 'online': True, '_id': {'$oid': '65d5267386d526e57eff1c75'}, 'values': {'battery': 100, 'humidity': 69.22, 'linkquality': 148, 'temperature': 25.38, 'voltage': 3000}}, {'description': 'Temperature and humidity sensor', 'name': '0x00124b002935a7d1', 'model': 'SNZB-02', 'type': 'EndDevice', 'exposes': [{'access': 1, 'description': 'Remaining battery in %, can take up to 24 hours before reported.', 'name': 'battery', 'property': 'battery', 'type': 'numeric', 'unit': '%', 'value_max': 100, 'value_min': 0}, {'access': 1, 'description': 'Measured temperature value', 'name': 'temperature', 'property': 'temperature', 'type': 'numeric', 'unit': '°C'}, {'access': 1, 'description': 'Measured relative humidity', 'name': 'humidity', 'property': 'humidity', 'type': 'numeric', 'unit': '%'}, {'access': 1, 'description': 'Voltage of the battery in millivolts', 'name': 'voltage', 'property': 'voltage', 'type': 'numeric', 'unit': 'mV'}, {'access': 1, 'description': 'Link quality (signal strength)', 'name': 'linkquality', 'property': 'linkquality', 'type': 'numeric', 'unit': 'lqi', 'value_max': 255, 'value_min': 0}], 'options': [{'access': 2, 'description': 'Number of digits after decimal point for temperature, takes into effect on next report of device.', 'name': 'temperature_precision', 'property': 'temperature_precision', 'type': 'numeric', 'value_max': 3, 'value_min': 0}, {'access': 2, 'description': 'Calibrates the temperature value (absolute offset), takes into effect on next report of device.', 'name': 'temperature_calibration', 'property': 'temperature_calibration', 'type': 'numeric'}, {'access': 2, 'description': 'Number of digits after decimal point for humidity, takes into effect on next report of device.', 'name': 'humidity_precision', 'property': 'humidity_precision', 'type': 'numeric', 'value_max': 3, 'value_min': 0}, {'access': 2, 'description': 'Calibrates the humidity value (absolute offset), takes into effect on next report of device.', 'name': 'humidity_calibration', 'property': 'humidity_calibration', 'type': 'numeric'}], 'online': True, '_id': {'$oid': '65d5268686d526e57eff2018'}, 'values': {'battery': 100, 'humidity': 83.55, 'linkquality': 140, 'temperature': 23.13, 'voltage': 3100}}, {'description': 'Temperature and humidity sensor', 'name': '0x00124b002a516a87', 'model': 'SNZB-02', 'type': 'EndDevice', 'exposes': [{'access': 1, 'description': 'Remaining battery in %, can take up to 24 hours before reported.', 'name': 'battery', 'property': 'battery', 'type': 'numeric', 'unit': '%', 'value_max': 100, 'value_min': 0}, {'access': 1, 'description': 'Measured temperature value', 'name': 'temperature', 'property': 'temperature', 'type': 'numeric', 'unit': '°C'}, {'access': 1, 'description': 'Measured relative humidity', 'name': 'humidity', 'property': 'humidity', 'type': 'numeric', 'unit': '%'}, {'access': 1, 'description': 'Voltage of the battery in millivolts', 'name': 'voltage', 'property': 'voltage', 'type': 'numeric', 'unit': 'mV'}, {'access': 1, 'description': 'Link quality (signal strength)', 'name': 'linkquality', 'property': 'linkquality', 'type': 'numeric', 'unit': 'lqi', 'value_max': 255, 'value_min': 0}], 'options': [{'access': 2, 'description': 'Number of digits after decimal point for temperature, takes into effect on next report of device.', 'name': 'temperature_precision', 'property': 'temperature_precision', 'type': 'numeric', 'value_max': 3, 'value_min': 0}, {'access': 2, 'description': 'Calibrates the temperature value (absolute offset), takes into effect on next report of device.', 'name': 'temperature_calibration', 'property': 'temperature_calibration', 'type': 'numeric'}, {'access': 2, 'description': 'Number of digits after decimal point for humidity, takes into effect on next report of device.', 'name': 'humidity_precision', 'property': 'humidity_precision', 'type': 'numeric', 'value_max': 3, 'value_min': 0}, {'access': 2, 'description': 'Calibrates the humidity value (absolute offset), takes into effect on next report of device.', 'name': 'humidity_calibration', 'property': 'humidity_calibration', 'type': 'numeric'}], 'online': True, '_id': {'$oid': '65dbee4404f5f1b7fec251c1'}, 'values': {'battery': 100, 'humidity': 73.38, 'linkquality': 152, 'temperature': 21.88, 'voltage': 3000}}]\n",
      "----------------------------------------------------------------\n",
      "name : coordinator\n",
      "----------------------------------------------------------------\n",
      "online : True\n",
      "----------------------------------------------------------------\n",
      "updatedAt : {'$date': '2024-03-19T11:19:25.022Z'}\n",
      "----------------------------------------------------------------\n",
      "active : True\n",
      "----------------------------------------------------------------\n",
      "description : zigbee coordinator elli-zigbee-coordinator-pro(1.0)\n",
      "----------------------------------------------------------------\n",
      "model : elli-zigbee-coordinator-pro\n",
      "----------------------------------------------------------------\n",
      "type : zigbee-coordinator\n",
      "----------------------------------------------------------------\n",
      "interfaces : []\n",
      "----------------------------------------------------------------\n",
      "protocols : []\n",
      "----------------------------------------------------------------\n"
     ]
    }
   ],
   "source": [
    "# print(casa_de_luciano['_id'])\n",
    "\n",
    "\n",
    "for device, valores in devices_casa_de_luciano[0].items():\n",
    "    print(f\"{device} : {valores}\")\n",
    "    print('----------------------------------------------------------------')\n",
    "    "
   ]
  },
  {
   "cell_type": "code",
   "execution_count": 158,
   "metadata": {},
   "outputs": [
    {
     "name": "stdout",
     "output_type": "stream",
     "text": [
      "{'$oid': '64289d68675817487e47f187'}\n"
     ]
    }
   ],
   "source": [
    "print(casa_de_luciano['_id'])"
   ]
  }
 ],
 "metadata": {
  "kernelspec": {
   "display_name": "Python 3",
   "language": "python",
   "name": "python3"
  },
  "language_info": {
   "codemirror_mode": {
    "name": "ipython",
    "version": 3
   },
   "file_extension": ".py",
   "mimetype": "text/x-python",
   "name": "python",
   "nbconvert_exporter": "python",
   "pygments_lexer": "ipython3",
   "version": "3.10.12"
  }
 },
 "nbformat": 4,
 "nbformat_minor": 2
}
